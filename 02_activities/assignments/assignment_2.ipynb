{
 "cells": [
  {
   "cell_type": "markdown",
   "metadata": {},
   "source": [
    "# Practice Interview\n",
    "\n",
    "## Objective\n",
    "\n",
    "_*The partner assignment aims to provide participants with the opportunity to practice coding in an interview context. You will analyze your partner's Assignment 1. Moreover, code reviews are common practice in a software development team. This assignment should give you a taste of the code review process.*_\n",
    "\n",
    "## Group Size\n",
    "\n",
    "Each group should have 2 people. You will be assigned a partner\n",
    "\n",
    "## Parts:\n",
    "- Part 1: Complete 1 of 3 questions\n",
    "- Part 2: Review your partner's Assignment 1 submission\n",
    "- Part 3: Perform code review of your partner's assignment 1 by answering the questions below\n",
    "- Part 3: Reflect on Assignment 1 and Assignment 2\n",
    "\n",
    "## Part 1:\n",
    "\n",
    "_*You will be assigned one of three problems based of your first name. Enter your first name, in all lower case, execute the code below, and that will tell you your assigned problem. Include the output as part of your submission (do not clear the output). The problems are based-off problems from Leetcode.*_"
   ]
  },
  {
   "cell_type": "code",
   "execution_count": 7,
   "metadata": {},
   "outputs": [
    {
     "name": "stdout",
     "output_type": "stream",
     "text": [
      "2\n"
     ]
    }
   ],
   "source": [
    "import hashlib\n",
    "\n",
    "def hash_to_range(input_string: str) -> int:\n",
    "     hash_object = hashlib.sha256(input_string.encode())\n",
    "     hash_int = int(hash_object.hexdigest(), 16)\n",
    "     return (hash_int % 3) + 1\n",
    "input_string = \"pulkit\"\n",
    "result = hash_to_range(input_string)\n",
    "print(result)\n"
   ]
  },
  {
   "cell_type": "markdown",
   "metadata": {},
   "source": [
    "<details>\n",
    "  <summary>Question 1</summary>\n",
    "\n",
    "  # Question One: Check Duplicates in Tree\n",
    "\n",
    "  Given the `root` of a binary tree, check whether it is contains a duplicate value. If a duplicate exists, return the duplicate value. If there are multiple duplicates, return the one with the closest distance to the root. If no duplicate exists, return -1.\n",
    "\n",
    "  ## Examples\n",
    "\n",
    "  ### Example 1\n",
    "\n",
    "  ![](./images/q1_ex1.png)\n",
    "\n",
    "  Input: `root = [1, 2, 2, 3, 5, 6, 7]` *What traversal method is this?*\n",
    "\n",
    "  Output: 2\n",
    "\n",
    "  ### Example 2\n",
    "\n",
    "  ![](./images/q1_ex2.png)\n",
    "\n",
    "  Input: `root = [1, 10, 2, 3, 10, 12, 12]`\n",
    "\n",
    "  Output: 10\n",
    "\n",
    "  ### Example 3\n",
    "\n",
    "  ![](./images/q1_ex3.png)\n",
    "\n",
    "  Input: `root = [10, 9, 8, 7]`\n",
    "\n",
    "  Output: -1\n",
    "\n",
    "</details>\n",
    "\n",
    "#### Starter Code for Question 1"
   ]
  },
  {
   "cell_type": "code",
   "execution_count": 8,
   "metadata": {},
   "outputs": [
    {
     "ename": "IndentationError",
     "evalue": "expected an indented block (2850872121.py, line 8)",
     "output_type": "error",
     "traceback": [
      "\u001b[0;36m  Cell \u001b[0;32mIn[8], line 8\u001b[0;36m\u001b[0m\n\u001b[0;31m    # TODO\u001b[0m\n\u001b[0m          ^\u001b[0m\n\u001b[0;31mIndentationError\u001b[0m\u001b[0;31m:\u001b[0m expected an indented block\n"
     ]
    }
   ],
   "source": [
    "# Definition for a binary tree node.\n",
    "# class TreeNode(object):\n",
    "#     def __init__(self, val = 0, left = None, right = None):\n",
    "#         self.val = val\n",
    "#         self.left = left\n",
    "#         self.right = right\n",
    "def is_duplicate(root: TreeNode) -> int:\n",
    "  # TODO"
   ]
  },
  {
   "cell_type": "markdown",
   "metadata": {},
   "source": [
    "<details>\n",
    "  <summary>Question 2</summary>\n",
    "\n",
    "  # Question Two: Path to Leaves\n",
    "\n",
    "  Given the `root` of a binary tree, return all root to leaf paths in any order.\n",
    "\n",
    "  ## Examples\n",
    "\n",
    "  ### Example 1\n",
    "\n",
    "  ![](./images/q1_ex1.png)\n",
    "\n",
    "  Input: `root = [1, 2, 2, 3, 5, 6, 7]` *What traversal method is this?*\n",
    "\n",
    "  >> Depth first search\n",
    "\n",
    "  Output: [[1, 2, 3], [1, 2, 5], [1, 2, 6], [1, 2, 7]]\n",
    "\n",
    "  ### Example 2\n",
    "\n",
    "  ![](./images/q1_ex3.png)\n",
    "\n",
    "  Input: `root = [10, 9, 7, 8]`\n",
    "\n",
    "  Output: [[10, 7], [10, 9, 8]]\n",
    "\n",
    "</details>\n",
    "\n",
    "#### Starter Code for Question 2"
   ]
  },
  {
   "cell_type": "code",
   "execution_count": 19,
   "metadata": {},
   "outputs": [
    {
     "name": "stdout",
     "output_type": "stream",
     "text": [
      "[[1, 2, 3], [1, 2, 5], [1, 2, 6], [1, 2, 7]]\n",
      "[[10, 9, 8], [10, 7]]\n"
     ]
    }
   ],
   "source": [
    "from typing import Optional, List\n",
    "\n",
    "\n",
    "# Definition for a binary tree node.\n",
    "class TreeNode(object):\n",
    "    def __init__(self, val = 0, left = None, right = None):\n",
    "        self.val = val\n",
    "        self.left = left\n",
    "        self.right = right\n",
    "        \n",
    "def bt_path(root: TreeNode) -> List[List[int]]:\n",
    "  # Handling extreme edge case, in case, TreeNode is null or empty\n",
    "  if not root:\n",
    "    return []\n",
    "  \n",
    "  paths = []\n",
    "  \n",
    "  def dfs(node, path):\n",
    "    # Add the current node's value to the path\n",
    "    path.append(node.val)\n",
    "    \n",
    "    # If it's a leaf node, append the path to paths\n",
    "    if not node.left and not node.right:\n",
    "        paths.append(path[:])  # Make a copy of the current path\n",
    "    else:\n",
    "        # Otherwise, go deeper\n",
    "        if node.left:\n",
    "            dfs(node.left, path)\n",
    "        if node.right:\n",
    "            dfs(node.right, path)\n",
    "    \n",
    "    # Backtrack for other paths\n",
    "    path.pop()\n",
    "  \n",
    "  dfs(root, [])\n",
    "  return paths\n",
    "\n",
    "def build_tree(arr: List[int]) -> Optional[TreeNode]:\n",
    "    if not arr:\n",
    "        return None\n",
    "    nodes = [TreeNode(val) for val in arr]\n",
    "    sizeOfArray = len(arr)\n",
    "    \n",
    "    for i in range(sizeOfArray):\n",
    "        if nodes[i]:\n",
    "            \n",
    "            left_idx = 2 * i + 1\n",
    "            right_idx = 2 * i + 2\n",
    "            \n",
    "            if left_idx < sizeOfArray:\n",
    "                #Assigning left TreeNode\n",
    "                nodes[i].left = nodes[left_idx]\n",
    "            if right_idx < sizeOfArray:\n",
    "                #Assigning right TreeNode\n",
    "                nodes[i].right = nodes[right_idx]\n",
    "                \n",
    "    #Returning the root node\n",
    "    return nodes[0] \n",
    "  \n",
    "arr = [1, 2, 2, 3, 5, 6, 7]\n",
    "root = build_tree(arr)\n",
    "print(bt_path(root))\n",
    "\n",
    "\n",
    "arr_second = [10, 9, 7, 8]\n",
    "root_second = build_tree(arr_second)\n",
    "print(bt_path(root_second))\n"
   ]
  },
  {
   "cell_type": "markdown",
   "metadata": {},
   "source": [
    "<details>\n",
    "  <summary>Question 3</summary>\n",
    "\n",
    "  # Question Three: Missing Number in Range\n",
    " \n",
    "  You are given a list containing `n` integers in the range `[0, n]`. Return a list of numbers that are missing from the range `[0, n]` of the array. If there is no missing number, return -1. Note, all the integers in the list may not be unique.\n",
    "  \n",
    "  ## Examples\n",
    "\n",
    "  ### Example 1\n",
    "\n",
    "  Input: `lst = [0, 2]`\n",
    "\n",
    "  Output: [1]\n",
    "\n",
    "  ### Example 2\n",
    "\n",
    "  Input: `lst = [5, 0, 1]`\n",
    "\n",
    "  Output: [2, 3, 4]\n",
    "\n",
    "  ### Example 3\n",
    "\n",
    "  Input: `lst = [6, 8, 2, 3, 5, 7, 0, 1, 10]`\n",
    "\n",
    "  Output: [4, 9]\n",
    "\n",
    "</details>\n",
    "\n",
    "#### Starter Code for Question 3\n"
   ]
  },
  {
   "cell_type": "code",
   "execution_count": null,
   "metadata": {
    "scrolled": true
   },
   "outputs": [],
   "source": [
    "def missing_num(nums: List) -> int:\n",
    "  # TODO"
   ]
  },
  {
   "cell_type": "markdown",
   "metadata": {
    "jp-MarkdownHeadingCollapsed": true
   },
   "source": [
    "## Part 2:\n",
    "\n",
    "You and your partner must share each other's Assignment 1 submission."
   ]
  },
  {
   "cell_type": "markdown",
   "metadata": {},
   "source": [
    "\n",
    "## Part 3:\n",
    "\n",
    "Create a Jupyter Notebook, create 6 of the following headings, and complete the following for your partner's assignment 1:\n",
    "\n",
    "-   Paraphrase the problem in your own words.\n"
   ]
  },
  {
   "cell_type": "markdown",
   "metadata": {},
   "source": [
    ">> We are given a list of integers, and we have to go through them, and find the first duplicate element we found. And in case, there is no duplicates, we return -1."
   ]
  },
  {
   "cell_type": "markdown",
   "metadata": {},
   "source": [
    "\n",
    "-   Create 1 new example that demonstrates you understand the problem. Trace/walkthrough 1 example that your partner made and explain it.\n"
   ]
  },
  {
   "cell_type": "code",
   "execution_count": null,
   "metadata": {},
   "outputs": [],
   "source": [
    "input = [1, 2, 3, 4, 5]\n",
    "output = -1\n",
    "#We didn't find any duplicates\n",
    "\n",
    "input_second = [11, 53, 52, 63, 13, 64, 11, 35, 64, 52]\n",
    "output_second = 11\n",
    "#We found the duplicate, first as 11"
   ]
  },
  {
   "cell_type": "markdown",
   "metadata": {},
   "source": [
    "\n",
    "-   Copy the solution your partner wrote. \n"
   ]
  },
  {
   "cell_type": "code",
   "execution_count": 20,
   "metadata": {},
   "outputs": [
    {
     "name": "stdout",
     "output_type": "stream",
     "text": [
      "Input: nums = [34, 11, 41, 12, 52]\n",
      "Output: -1\n",
      "Input: nums = [10, 30, 20, 40, 20, 50, 50, 10]\n",
      "Output: 20\n"
     ]
    }
   ],
   "source": [
    "from typing import List\n",
    "\n",
    "def first_duplicate(nums: List[int]) -> int:\n",
    "    seen_elements = set()\n",
    "    for item in nums:\n",
    "        if item in seen_elements:\n",
    "            return item\n",
    "        else:\n",
    "            seen_elements.add(item)\n",
    "    return -1\n",
    "\n",
    "# Show output results with two input examples\n",
    "list_1 = [34, 11, 41, 12, 52]\n",
    "list_2 = [10, 30, 20, 40, 20, 50, 50, 10]\n",
    "\n",
    "print(f\"Input: nums = {list_1}\")\n",
    "print(f\"Output: {first_duplicate(list_1)}\")\n",
    "\n",
    "print(f\"Input: nums = {list_2}\")\n",
    "print(f\"Output: {first_duplicate(list_2)}\")"
   ]
  },
  {
   "cell_type": "markdown",
   "metadata": {},
   "source": [
    "\n",
    "-   Explain why their solution works in your own words.\n"
   ]
  },
  {
   "cell_type": "markdown",
   "metadata": {},
   "source": [
    ">> Initially an empty set is created. And we iterate through the array, and check if item is in set or not. It should take O(1) time.\n",
    ">>\n",
    ">> If item is not in set, we add it to this. In case we reach the end of array, we return -1."
   ]
  },
  {
   "cell_type": "markdown",
   "metadata": {},
   "source": [
    "\n",
    "-   Explain the problem’s time and space complexity in your own words.\n"
   ]
  },
  {
   "cell_type": "markdown",
   "metadata": {},
   "source": [
    ">> **Time Complexity: O(n)**\n",
    ">> \n",
    ">> Time Complexity is O(n), as in case there is no duplicates, we need to reach the end of the array. That is the worst case scenario here.\n",
    "\n",
    "\n",
    "\n",
    ">> **Space Complexity: O(n)**\n",
    ">>\n",
    ">> Space complexity is also, O(n), due to the fact, that when we don't have any duplicates, we still need to store, all those items in set, to check for duplicates.\n"
   ]
  },
  {
   "cell_type": "markdown",
   "metadata": {},
   "source": [
    "\n",
    "-   Critique your partner's solution, including explanation, and if there is anything that should be adjusted.\n"
   ]
  },
  {
   "cell_type": "markdown",
   "metadata": {},
   "source": [
    ">> Their solution works perfectly, and fulfills the requirement to find the first duplicate number in the array, or return -1 if no duplicates are found.\n",
    ">> \n",
    ">> Only other thing can think of adjusting, is that we can handle the edge cases like empty and only 1 item in array, and return -1 beforehand."
   ]
  },
  {
   "cell_type": "markdown",
   "metadata": {},
   "source": [
    "\n",
    "## Part 4:\n",
    "\n",
    "Please write a 200 word reflection documenting your process from assignment 1, and your presentation and review experience with your partner at the bottom of the Jupyter Notebook under a new heading \"Reflection.\" Again, export this Notebook as pdf.\n"
   ]
  },
  {
   "cell_type": "markdown",
   "metadata": {},
   "source": [
    "### Reflection"
   ]
  },
  {
   "cell_type": "markdown",
   "metadata": {},
   "source": [
    ">> Assignment 1, was fun and challenging in it's own way. The challenging part in question 2, was to figure out, to match the sequence in which bracket close. Luckly stack data structure is there for this. It got a bit confusing, as I wrote my first brute force solution in Part 1 only, along with examples, and when I saw more examples defined in the question above, I realized my mistake, and started thinking of correct solution.\n",
    "\n",
    ">> Assignment 2, code review is fun too, it teaches us, how to understand the problem, read the code, understand the proposed solution, and come up with ways, in which the code is perfect. "
   ]
  },
  {
   "cell_type": "markdown",
   "metadata": {},
   "source": [
    "\n",
    "## Evaluation Criteria\n",
    "\n",
    "We are looking for the similar points as Assignment 1\n",
    "\n",
    "-   Problem is accurately stated\n",
    "\n",
    "-   New example is correct and easily understandable\n",
    "\n",
    "-   Correctness, time, and space complexity of the coding solution\n",
    "\n",
    "-   Clarity in explaining why the solution works, its time and space complexity\n",
    "\n",
    "-   Quality of critique of your partner's assignment, if necessary\n"
   ]
  },
  {
   "cell_type": "markdown",
   "metadata": {},
   "source": [
    "## Submission Information\n",
    "\n",
    "🚨 **Please review our [Assignment Submission Guide](https://github.com/UofT-DSI/onboarding/blob/main/onboarding_documents/submissions.md)** 🚨 for detailed instructions on how to format, branch, and submit your work. Following these guidelines is crucial for your submissions to be evaluated correctly.\n",
    "\n",
    "### Submission Parameters:\n",
    "* Submission Due Date: `HH:MM AM/PM - DD/MM/YYYY`\n",
    "* The branch name for your repo should be: `assignment-2`\n",
    "* What to submit for this assignment:\n",
    "    * This Jupyter Notebook (assignment_2.ipynb) should be populated and should be the only change in your pull request.\n",
    "* What the pull request link should look like for this assignment: `https://github.com/<your_github_username>/algorithms_and_data_structures/pull/<pr_id>`\n",
    "    * Open a private window in your browser. Copy and paste the link to your pull request into the address bar. Make sure you can see your pull request properly. This helps the technical facilitator and learning support staff review your submission easily.\n",
    "\n",
    "Checklist:\n",
    "- [ ] Created a branch with the correct naming convention.\n",
    "- [ ] Ensured that the repository is public.\n",
    "- [ ] Reviewed the PR description guidelines and adhered to them.\n",
    "- [ ] Verify that the link is accessible in a private browser window.\n",
    "\n",
    "If you encounter any difficulties or have questions, please don't hesitate to reach out to our team via our Slack at `#cohort-6-help`. Our Technical Facilitators and Learning Support staff are here to help you navigate any challenges.\n"
   ]
  },
  {
   "cell_type": "code",
   "execution_count": null,
   "metadata": {},
   "outputs": [],
   "source": []
  }
 ],
 "metadata": {
  "kernelspec": {
   "display_name": "dsi_participant",
   "language": "python",
   "name": "python3"
  },
  "language_info": {
   "codemirror_mode": {
    "name": "ipython",
    "version": 3
   },
   "file_extension": ".py",
   "mimetype": "text/x-python",
   "name": "python",
   "nbconvert_exporter": "python",
   "pygments_lexer": "ipython3",
   "version": "3.9.7"
  }
 },
 "nbformat": 4,
 "nbformat_minor": 4
}
