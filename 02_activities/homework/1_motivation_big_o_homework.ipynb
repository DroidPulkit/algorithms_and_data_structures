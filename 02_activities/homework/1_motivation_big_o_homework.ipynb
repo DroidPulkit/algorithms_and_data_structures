{
  "cells": [
    {
      "cell_type": "markdown",
      "id": "79078d67-1cad-401a-81b3-4d4c6b9548f3",
      "metadata": {},
      "source": [
        "# 1: Motivation and Big-O\n",
        "\n",
        "-   Cormen: Chapter 1 exercises\n",
        "\n",
        "    -   1.2-1, 1.2-2, 1.2-3\n",
        "\n",
        "-   Bhargava: Chapter 1 exercises\n",
        "\n",
        "    -   1.3 to 1.5\n",
        "\n",
        "-   Additional (for the mathematically inclined)\n",
        "\n",
        "    -   In CS, log is usually base 2, but a strong distinction is not\n",
        "        made because *logs of different bases only differ by a constant\n",
        "        factor* and constants are dropped in Big-O. Show this is true\n",
        "\n",
        "    -   Show that exponents of different bases **do not** differ by a\n",
        "        constant factor\n"
      ]
    },
    {
      "cell_type": "markdown",
      "id": "62456e1a",
      "metadata": {},
      "source": [
        "1.1 Suppose you have a sorted list of 128 names, and you’re searching through it using binary search. What’s the maximum number of steps it would take?\n",
        "\n",
        "7\n",
        "\n",
        "1.2 Suppose you double the size of the list. What’s the maximum number of steps now?\n",
        "\n",
        "8\n",
        "\n",
        "1.3 You have a name, and you want to find the person’s phone number in the phone book.\n",
        "\n",
        "O(log n)\n",
        "\n",
        "1.4 You have a phone number, and you want to find the person’s name in the phone book. (Hint: You’ll have to search through the whole book!)\n",
        "O(n)\n",
        "\n",
        "1.5 You want to read the numbers of every person in the phone book.\n",
        "O(n)\n",
        "\n",
        "1.6 You want to read the numbers of just the As. (This is a tricky one! It involves concepts that are covered more in chapter 4. Read the answer—you may be surprised!)\n",
        "\n",
        "O(n)\n",
        "\n",
        "\n",
        "\n"
      ]
    },
    {
      "cell_type": "markdown",
      "id": "f3acf545",
      "metadata": {},
      "source": []
    }
  ],
  "metadata": {
    "kernelspec": {
      "display_name": "Python 3",
      "language": "python",
      "name": "python3"
    }
  },
  "nbformat": 4,
  "nbformat_minor": 5
}
